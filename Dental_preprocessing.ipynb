{
  "metadata": {
    "kernelspec": {
      "language": "python",
      "display_name": "Python 3",
      "name": "python3"
    },
    "language_info": {
      "name": "python",
      "version": "3.10.14",
      "mimetype": "text/x-python",
      "codemirror_mode": {
        "name": "ipython",
        "version": 3
      },
      "pygments_lexer": "ipython3",
      "nbconvert_exporter": "python",
      "file_extension": ".py"
    },
    "kaggle": {
      "accelerator": "none",
      "dataSources": [
        {
          "sourceId": 9553177,
          "sourceType": "datasetVersion",
          "datasetId": 5820886
        },
        {
          "sourceId": 9573484,
          "sourceType": "datasetVersion",
          "datasetId": 5724506
        },
        {
          "sourceId": 9586502,
          "sourceType": "datasetVersion",
          "datasetId": 5834573
        }
      ],
      "dockerImageVersionId": 30775,
      "isInternetEnabled": true,
      "language": "python",
      "sourceType": "notebook",
      "isGpuEnabled": false
    },
    "colab": {
      "name": "Dental-preprocessing",
      "provenance": [],
      "include_colab_link": true
    }
  },
  "nbformat_minor": 0,
  "nbformat": 4,
  "cells": [
    {
      "cell_type": "markdown",
      "metadata": {
        "id": "view-in-github",
        "colab_type": "text"
      },
      "source": [
        "<a href=\"https://colab.research.google.com/github/joelleslim/memoire/blob/main/Dental_preprocessing.ipynb\" target=\"_parent\"><img src=\"https://colab.research.google.com/assets/colab-badge.svg\" alt=\"Open In Colab\"/></a>"
      ]
    },
    {
      "source": [
        "# IMPORTANT: RUN THIS CELL IN ORDER TO IMPORT YOUR KAGGLE DATA SOURCES,\n",
        "# THEN FEEL FREE TO DELETE THIS CELL.\n",
        "# NOTE: THIS NOTEBOOK ENVIRONMENT DIFFERS FROM KAGGLE'S PYTHON\n",
        "# ENVIRONMENT SO THERE MAY BE MISSING LIBRARIES USED BY YOUR\n",
        "# NOTEBOOK.\n",
        "import kagglehub\n",
        "nguyenttung_dental_bitewing_x_ray_dataset_path = kagglehub.dataset_download('nguyenttung/dental-bitewing-x-ray-dataset')\n",
        "nguyenttung_dental_periapical_x_ray_dataset_path = kagglehub.dataset_download('nguyenttung/dental-periapical-x-ray-dataset')\n",
        "nguyenttung_dental_mix_4k_images_path = kagglehub.dataset_download('nguyenttung/dental-mix-4k-images')\n",
        "\n",
        "print('Data source import complete.')\n"
      ],
      "metadata": {
        "id": "MccQLZBuf8Bs"
      },
      "cell_type": "code",
      "outputs": [],
      "execution_count": null
    },
    {
      "cell_type": "code",
      "source": [
        "import os\n",
        "import shutil\n",
        "from pathlib import Path\n",
        "\n",
        "import cv2\n",
        "import numpy as np\n",
        "import matplotlib.pyplot as plt\n",
        "\n",
        "from PIL import Image\n",
        "from tqdm.notebook import tqdm\n",
        "from sklearn.model_selection import train_test_split"
      ],
      "metadata": {
        "execution": {
          "iopub.status.busy": "2024-10-11T03:33:07.089879Z",
          "iopub.execute_input": "2024-10-11T03:33:07.090539Z",
          "iopub.status.idle": "2024-10-11T03:33:07.096841Z",
          "shell.execute_reply.started": "2024-10-11T03:33:07.090455Z",
          "shell.execute_reply": "2024-10-11T03:33:07.095545Z"
        },
        "trusted": true,
        "id": "DN_x4rQIf8By"
      },
      "execution_count": null,
      "outputs": []
    },
    {
      "cell_type": "code",
      "source": [
        "datasets = ['/kaggle/input/dental-bitewing-x-ray-dataset',\n",
        "               '/kaggle/input/dental-mix-4k-images',\n",
        "               '/kaggle/input/dental-periapical-x-ray-dataset']"
      ],
      "metadata": {
        "execution": {
          "iopub.status.busy": "2024-10-11T03:33:10.081402Z",
          "iopub.execute_input": "2024-10-11T03:33:10.082393Z",
          "iopub.status.idle": "2024-10-11T03:33:10.087201Z",
          "shell.execute_reply.started": "2024-10-11T03:33:10.082347Z",
          "shell.execute_reply": "2024-10-11T03:33:10.085895Z"
        },
        "trusted": true,
        "id": "k98oWJPHf8B3"
      },
      "execution_count": null,
      "outputs": []
    },
    {
      "cell_type": "code",
      "source": [
        "def get_files(directory, extension):\n",
        "    results = []\n",
        "    for root, dirs, files in os.walk(directory):\n",
        "        for file in files:\n",
        "            if file.endswith(extension):\n",
        "                results.append(os.path.join(root, file))\n",
        "    results.sort()\n",
        "    return results"
      ],
      "metadata": {
        "execution": {
          "iopub.status.busy": "2024-10-11T03:33:10.369423Z",
          "iopub.execute_input": "2024-10-11T03:33:10.369975Z",
          "iopub.status.idle": "2024-10-11T03:33:10.376663Z",
          "shell.execute_reply.started": "2024-10-11T03:33:10.369919Z",
          "shell.execute_reply": "2024-10-11T03:33:10.375296Z"
        },
        "trusted": true,
        "id": "pb-8cEiKf8B4"
      },
      "execution_count": null,
      "outputs": []
    },
    {
      "cell_type": "code",
      "source": [
        "images = []\n",
        "annotations = []\n",
        "\n",
        "for dataset in datasets:\n",
        "    sub_images = get_files(dataset, '.JPG')\n",
        "    sub_annotations = get_files(dataset, '.png')\n",
        "    images.extend(sub_images)\n",
        "    annotations.extend(sub_annotations)\n",
        "print(f'Number of images: {len(images)}')\n",
        "print(f'Number of annotations: {len(annotations)}')"
      ],
      "metadata": {
        "execution": {
          "iopub.status.busy": "2024-10-11T03:33:11.099983Z",
          "iopub.execute_input": "2024-10-11T03:33:11.100401Z",
          "iopub.status.idle": "2024-10-11T03:33:23.019888Z",
          "shell.execute_reply.started": "2024-10-11T03:33:11.100361Z",
          "shell.execute_reply": "2024-10-11T03:33:23.018594Z"
        },
        "trusted": true,
        "id": "r4lm8tBpf8B5"
      },
      "execution_count": null,
      "outputs": []
    },
    {
      "cell_type": "code",
      "source": [
        "def show_img_annotation(images, annotations, index, figsize=(12, 6)):\n",
        "    n = len(images)\n",
        "    if index >= n or index < 0:\n",
        "        print(\"Index error\")\n",
        "        return\n",
        "\n",
        "    fig, (ax1, ax2) = plt.subplots(1, 2, figsize=figsize)\n",
        "\n",
        "    img_dir = images[index]\n",
        "    img = plt.imread(img_dir)\n",
        "    ax1.imshow(img, cmap='gray')\n",
        "\n",
        "    ann_dir = annotations[index]\n",
        "    ann = plt.imread(ann_dir)\n",
        "    ax2.imshow(ann)\n",
        "\n",
        "    plt.show()"
      ],
      "metadata": {
        "execution": {
          "iopub.status.busy": "2024-10-11T03:33:23.022759Z",
          "iopub.execute_input": "2024-10-11T03:33:23.023429Z",
          "iopub.status.idle": "2024-10-11T03:33:23.031022Z",
          "shell.execute_reply.started": "2024-10-11T03:33:23.023374Z",
          "shell.execute_reply": "2024-10-11T03:33:23.029683Z"
        },
        "trusted": true,
        "id": "7h5rOeLVf8B6"
      },
      "execution_count": null,
      "outputs": []
    },
    {
      "cell_type": "code",
      "source": [
        "for index in np.random.randint(0, len(images), 3):\n",
        "    show_img_annotation(images, annotations, index)"
      ],
      "metadata": {
        "execution": {
          "iopub.status.busy": "2024-10-11T03:33:23.032584Z",
          "iopub.execute_input": "2024-10-11T03:33:23.032959Z",
          "iopub.status.idle": "2024-10-11T03:33:25.06478Z",
          "shell.execute_reply.started": "2024-10-11T03:33:23.032923Z",
          "shell.execute_reply": "2024-10-11T03:33:25.06357Z"
        },
        "trusted": true,
        "id": "zvbqkci9f8B-"
      },
      "execution_count": null,
      "outputs": []
    },
    {
      "cell_type": "code",
      "source": [
        "labelmap_path = '/kaggle/input/dental-periapical-x-ray-dataset/Dental-periapuical-x-ray-dataset/labelmap.txt'\n",
        "label_colors = {}\n",
        "\n",
        "with open(labelmap_path, 'r') as file:\n",
        "    for line in file:\n",
        "        if line.startswith('#') or line.strip() == '':\n",
        "            continue\n",
        "\n",
        "        parts = line.strip().split(':')\n",
        "        label = parts[0]\n",
        "        if label == 'background':\n",
        "            continue\n",
        "        color_rgb = tuple(map(int, parts[1].split(',')))\n",
        "\n",
        "        label_colors[label] = color_rgb\n",
        "\n",
        "print(f'Số lượng labels: {len(label_colors)}')\n",
        "\n",
        "for label, color in label_colors.items():\n",
        "    print(label, ':', color)"
      ],
      "metadata": {
        "execution": {
          "iopub.status.busy": "2024-10-11T03:33:25.067758Z",
          "iopub.execute_input": "2024-10-11T03:33:25.068267Z",
          "iopub.status.idle": "2024-10-11T03:33:25.083397Z",
          "shell.execute_reply.started": "2024-10-11T03:33:25.068213Z",
          "shell.execute_reply": "2024-10-11T03:33:25.081952Z"
        },
        "trusted": true,
        "id": "q3oj0kf9f8CA"
      },
      "execution_count": null,
      "outputs": []
    },
    {
      "cell_type": "code",
      "source": [
        "# structure_counts = {label: 0 for label in label_colors}\n",
        "\n",
        "# for mask_file in annotations:\n",
        "#     mask = cv2.imread(mask_file)\n",
        "#     mask = cv2.cvtColor(mask, cv2.COLOR_BGR2RGB)\n",
        "#     for label, color in label_colors.items():\n",
        "\n",
        "#         if np.any(np.all(mask == color, axis=-1)):\n",
        "#             structure_counts[label] += 1\n",
        "\n",
        "\n",
        "# print(structure_counts)"
      ],
      "metadata": {
        "execution": {
          "iopub.status.busy": "2024-10-11T03:33:25.084915Z",
          "iopub.execute_input": "2024-10-11T03:33:25.085301Z",
          "iopub.status.idle": "2024-10-11T03:33:25.094562Z",
          "shell.execute_reply.started": "2024-10-11T03:33:25.085265Z",
          "shell.execute_reply": "2024-10-11T03:33:25.093556Z"
        },
        "trusted": true,
        "id": "cASpm-Zrf8CD"
      },
      "execution_count": null,
      "outputs": []
    },
    {
      "cell_type": "code",
      "source": [
        "# total_masks = len(annotations)\n",
        "# structure_percent = {label: (count/ total_masks) * 100 for label, count in structure_counts.items()}\n",
        "\n",
        "# labels = list(structure_counts.keys())\n",
        "# counts = list(structure_counts.values())\n",
        "# percentages = list(structure_percent.values())\n",
        "\n",
        "# plt.figure(figsize=(10, 6))\n",
        "# plt.bar(labels, counts, color='skyblue')\n",
        "# plt.title('Số lượng ảnh có chứa cấu trúc')\n",
        "# plt.xlabel('Cấu trúc')\n",
        "# plt.ylabel('Số lượng ảnh')\n",
        "# plt.xticks(rotation=90)\n",
        "\n",
        "\n",
        "# plt.figure(figsize=(10, 6))\n",
        "# plt.bar(labels, percentages, color='lightgreen')\n",
        "# plt.title('Phần trăm ảnh có chứa cấu trúc')\n",
        "# plt.xlabel('Cấu trúc')\n",
        "# plt.ylabel('Phần trăm (%)')\n",
        "# plt.xticks(rotation=90)\n",
        "# plt.show()"
      ],
      "metadata": {
        "execution": {
          "iopub.status.busy": "2024-10-11T03:33:25.09609Z",
          "iopub.execute_input": "2024-10-11T03:33:25.096465Z",
          "iopub.status.idle": "2024-10-11T03:33:25.108678Z",
          "shell.execute_reply.started": "2024-10-11T03:33:25.096428Z",
          "shell.execute_reply": "2024-10-11T03:33:25.107342Z"
        },
        "trusted": true,
        "id": "rMLSijqwf8CG"
      },
      "execution_count": null,
      "outputs": []
    },
    {
      "cell_type": "code",
      "source": [
        "train_images, test_images, train_annotations, test_annotations = train_test_split(images, annotations, test_size=0.3, random_state=42)\n",
        "val_images, test_images, val_annotations, test_annotations = train_test_split(test_images, test_annotations, test_size=0.5, random_state=42)"
      ],
      "metadata": {
        "execution": {
          "iopub.status.busy": "2024-10-11T03:33:25.11046Z",
          "iopub.execute_input": "2024-10-11T03:33:25.111531Z",
          "iopub.status.idle": "2024-10-11T03:33:25.131606Z",
          "shell.execute_reply.started": "2024-10-11T03:33:25.111454Z",
          "shell.execute_reply": "2024-10-11T03:33:25.130283Z"
        },
        "trusted": true,
        "id": "h6EppaTKf8CH"
      },
      "execution_count": null,
      "outputs": []
    },
    {
      "cell_type": "code",
      "source": [
        "output_dirs = ['train', 'val', 'test']\n",
        "for d in output_dirs:\n",
        "    os.makedirs(f'/kaggle/working/{d}/images', exist_ok=True)\n",
        "    os.makedirs(f'/kaggle/working/{d}/annotations', exist_ok=True)"
      ],
      "metadata": {
        "execution": {
          "iopub.status.busy": "2024-10-11T03:33:25.133929Z",
          "iopub.execute_input": "2024-10-11T03:33:25.134305Z",
          "iopub.status.idle": "2024-10-11T03:33:25.143845Z",
          "shell.execute_reply.started": "2024-10-11T03:33:25.134271Z",
          "shell.execute_reply": "2024-10-11T03:33:25.142598Z"
        },
        "trusted": true,
        "id": "tURo7DWtf8CH"
      },
      "execution_count": null,
      "outputs": []
    },
    {
      "cell_type": "code",
      "source": [
        "img_dir = images[0]\n",
        "img_dir.split('/')[-1].split('.')[0]"
      ],
      "metadata": {
        "execution": {
          "iopub.status.busy": "2024-10-11T03:33:25.145394Z",
          "iopub.execute_input": "2024-10-11T03:33:25.145921Z",
          "iopub.status.idle": "2024-10-11T03:33:25.16682Z",
          "shell.execute_reply.started": "2024-10-11T03:33:25.145868Z",
          "shell.execute_reply": "2024-10-11T03:33:25.165636Z"
        },
        "trusted": true,
        "id": "r1XE8RrOf8CI"
      },
      "execution_count": null,
      "outputs": []
    },
    {
      "cell_type": "code",
      "source": [
        "def process_and_save(images, annotations, output_dir, dataset_type=None, size=416):\n",
        "    sums = 0\n",
        "    sums_squared = 0\n",
        "    for img_dir, mask_dir in zip(images, annotations):\n",
        "        img = cv2.imread(img_dir, cv2.IMREAD_GRAYSCALE)\n",
        "\n",
        "        mask = cv2.imread(mask_dir)\n",
        "        mask = cv2.cvtColor(mask, cv2.COLOR_BGR2RGB)\n",
        "\n",
        "        img = img.astype(np.float32)\n",
        "        mask = mask.astype(np.uint8)\n",
        "\n",
        "        img = img / 255.0\n",
        "\n",
        "        img = cv2.resize(img, (size, size), interpolation=cv2.INTER_NEAREST)\n",
        "        mask = cv2.resize(mask, (size, size), interpolation=cv2.INTER_NEAREST)\n",
        "\n",
        "        img_name = img_dir.split('/')[-1].split('.')[0]\n",
        "        mask_name = mask_dir.split('/')[-1].split('.')[0]\n",
        "        np.save(os.path.join(output_dir, 'images', img_name + '.npy'), img.astype(np.float16))\n",
        "        np.save(os.path.join(output_dir, 'annotations', mask_name + '.npy'), mask)\n",
        "\n",
        "        if dataset_type == 'train':\n",
        "            sums += np.sum(img) / (size * size)\n",
        "            sums_squared += np.sum(img ** 2) / (size * size)\n",
        "    return sums, sums_squared"
      ],
      "metadata": {
        "execution": {
          "iopub.status.busy": "2024-10-11T03:33:50.08964Z",
          "iopub.execute_input": "2024-10-11T03:33:50.090119Z",
          "iopub.status.idle": "2024-10-11T03:33:50.101673Z",
          "shell.execute_reply.started": "2024-10-11T03:33:50.090076Z",
          "shell.execute_reply": "2024-10-11T03:33:50.100372Z"
        },
        "trusted": true,
        "id": "-Zp9TG69f8CN"
      },
      "execution_count": null,
      "outputs": []
    },
    {
      "cell_type": "code",
      "source": [
        "SIZE = 416\n",
        "sums, sums_squared = process_and_save(train_images, train_annotations, '/kaggle/working/train', 'train', size=SIZE)"
      ],
      "metadata": {
        "execution": {
          "iopub.status.busy": "2024-10-02T03:43:29.074301Z",
          "iopub.execute_input": "2024-10-02T03:43:29.074773Z",
          "iopub.status.idle": "2024-10-02T03:44:10.13259Z",
          "shell.execute_reply.started": "2024-10-02T03:43:29.074728Z",
          "shell.execute_reply": "2024-10-02T03:44:10.131385Z"
        },
        "trusted": true,
        "id": "RrJNkk5Nf8CO"
      },
      "execution_count": null,
      "outputs": []
    },
    {
      "cell_type": "code",
      "source": [
        "import pickle\n",
        "\n",
        "with open('sums.pkl', 'wb') as file:\n",
        "    pickle.dump(sums, file)\n",
        "\n",
        "with open('sums_squared.pkl', 'wb') as file:\n",
        "    pickle.dump(sums_squared, file)"
      ],
      "metadata": {
        "id": "oNX2MS_1f8CO"
      },
      "execution_count": null,
      "outputs": []
    },
    {
      "cell_type": "code",
      "source": [
        "process_and_save(val_images, val_annotations, '/kaggle/working/val', size=SIZE)\n",
        "process_and_save(test_images, test_annotations, '/kaggle/working/test', size=SIZE)"
      ],
      "metadata": {
        "execution": {
          "iopub.status.busy": "2024-10-02T03:44:31.681826Z",
          "iopub.execute_input": "2024-10-02T03:44:31.682331Z",
          "iopub.status.idle": "2024-10-02T03:44:49.869984Z",
          "shell.execute_reply.started": "2024-10-02T03:44:31.682287Z",
          "shell.execute_reply": "2024-10-02T03:44:49.868807Z"
        },
        "trusted": true,
        "id": "B4Ilbm-Wf8CP"
      },
      "execution_count": null,
      "outputs": []
    },
    {
      "cell_type": "code",
      "source": [
        "# shutil.make_archive('train', 'zip', '/kaggle/working/train')\n",
        "# shutil.make_archive('val', 'zip', '/kaggle/working/val')\n",
        "# shutil.make_archive('test', 'zip', '/kaggle/working/test')"
      ],
      "metadata": {
        "id": "3nXfvUraf8CR"
      },
      "execution_count": null,
      "outputs": []
    },
    {
      "cell_type": "code",
      "source": [
        "# shutil.rmtree('/kaggle/working/train')\n",
        "# shutil.rmtree('/kaggle/working/val')\n",
        "# shutil.rmtree('/kaggle/working/test')"
      ],
      "metadata": {
        "id": "xEz2Dgwrf8CS"
      },
      "execution_count": null,
      "outputs": []
    }
  ]
}